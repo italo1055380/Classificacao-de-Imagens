{
  "nbformat": 4,
  "nbformat_minor": 0,
  "metadata": {
    "colab": {
      "provenance": [],
      "authorship_tag": "ABX9TyPCMpjwYfsIgKFDt1fjJK7H",
      "include_colab_link": true
    },
    "kernelspec": {
      "name": "python3",
      "display_name": "Python 3"
    },
    "language_info": {
      "name": "python"
    },
    "accelerator": "GPU",
    "gpuClass": "standard"
  },
  "cells": [
    {
      "cell_type": "markdown",
      "metadata": {
        "id": "view-in-github",
        "colab_type": "text"
      },
      "source": [
        "<a href=\"https://colab.research.google.com/github/italo1055380/Classificacao-de-Imagens/blob/main/Classificacaodeimagem.ipynb\" target=\"_parent\"><img src=\"https://colab.research.google.com/assets/colab-badge.svg\" alt=\"Open In Colab\"/></a>"
      ]
    },
    {
      "cell_type": "code",
      "execution_count": 4,
      "metadata": {
        "id": "cyUEk2JiC86l"
      },
      "outputs": [],
      "source": [
        "# Importação das Bilbiotecas\n",
        "\n",
        "import tensorflow as tf\n",
        "from tensorflow import keras\n",
        "from tensorflow.keras import layers\n",
        "from tensorflow.keras.datasets import cifar10\n"
      ]
    },
    {
      "cell_type": "code",
      "source": [
        "# Carregando base de dados CIFAR-10\n",
        "\n",
        "(x_train, y_train), (x_test, y_test) = cifar10.load_data()\n"
      ],
      "metadata": {
        "colab": {
          "base_uri": "https://localhost:8080/"
        },
        "id": "uOOhJ8TGDRG5",
        "outputId": "9c9119e5-2881-4ed5-b378-2aef038e9e46"
      },
      "execution_count": 5,
      "outputs": [
        {
          "output_type": "stream",
          "name": "stdout",
          "text": [
            "Downloading data from https://www.cs.toronto.edu/~kriz/cifar-10-python.tar.gz\n",
            "170498071/170498071 [==============================] - 6s 0us/step\n"
          ]
        }
      ]
    },
    {
      "cell_type": "code",
      "source": [
        "# Normalizando as imagens e convertendo as classes em vetores binários\n",
        "\n",
        "num_classes = 10\n",
        "y_train = keras.utils.to_categorical(y_train, num_classes)\n",
        "y_test = keras.utils.to_categorical(y_test, num_classes)\n",
        "\n",
        "x_train = x_train.astype('float32') / 255.0\n",
        "x_test = x_test.astype('float32') / 255.0\n"
      ],
      "metadata": {
        "id": "9J6r2g9xDhQb"
      },
      "execution_count": 6,
      "outputs": []
    },
    {
      "cell_type": "code",
      "source": [
        "pip install keras"
      ],
      "metadata": {
        "colab": {
          "base_uri": "https://localhost:8080/"
        },
        "id": "IdB84kbTFeAP",
        "outputId": "bcb27a40-f9f0-49aa-c31a-ce137d1449c1"
      },
      "execution_count": 3,
      "outputs": [
        {
          "output_type": "stream",
          "name": "stdout",
          "text": [
            "Looking in indexes: https://pypi.org/simple, https://us-python.pkg.dev/colab-wheels/public/simple/\n",
            "Requirement already satisfied: keras in /usr/local/lib/python3.9/dist-packages (2.11.0)\n"
          ]
        }
      ]
    },
    {
      "cell_type": "code",
      "source": [
        "# Definindo a arquitetura da CNN\n",
        "\n",
        "model = keras.Sequential()\n",
        "model.add(layers.Conv2D(32, (3, 3), activation='relu', input_shape=(32, 32, 3)))\n",
        "model.add(layers.MaxPooling2D((2, 2)))\n",
        "model.add(layers.Conv2D(64, (3, 3), activation='relu'))\n",
        "model.add(layers.MaxPooling2D((2, 2)))\n",
        "model.add(layers.Conv2D(64, (3, 3), activation='relu'))\n",
        "model.add(layers.Flatten())\n",
        "model.add(layers.Dense(64, activation='relu'))\n",
        "model.add(layers.Dense(num_classes, activation='softmax'))\n"
      ],
      "metadata": {
        "id": "vNYQhTczDym3"
      },
      "execution_count": 7,
      "outputs": []
    },
    {
      "cell_type": "code",
      "source": [
        "# Compilando o modelo\n",
        "\n",
        "model.compile(optimizer='adam',\n",
        "              loss='categorical_crossentropy',\n",
        "              metrics=['accuracy'])\n"
      ],
      "metadata": {
        "id": "B-brdlauEGFD"
      },
      "execution_count": 8,
      "outputs": []
    },
    {
      "cell_type": "code",
      "source": [
        "# Treinando o modelo\n",
        "\n",
        "model.fit(x_train, y_train, epochs=10, batch_size=64, validation_split=0.1)\n"
      ],
      "metadata": {
        "colab": {
          "base_uri": "https://localhost:8080/"
        },
        "id": "-m2pVBqYEScq",
        "outputId": "e2737425-7be4-4275-b4c7-0a1cd5c9d3c0"
      },
      "execution_count": 9,
      "outputs": [
        {
          "output_type": "stream",
          "name": "stdout",
          "text": [
            "Epoch 1/10\n",
            "704/704 [==============================] - 16s 6ms/step - loss: 1.5859 - accuracy: 0.4183 - val_loss: 1.3116 - val_accuracy: 0.5326\n",
            "Epoch 2/10\n",
            "704/704 [==============================] - 5s 6ms/step - loss: 1.2425 - accuracy: 0.5558 - val_loss: 1.1509 - val_accuracy: 0.6060\n",
            "Epoch 3/10\n",
            "704/704 [==============================] - 4s 6ms/step - loss: 1.0760 - accuracy: 0.6189 - val_loss: 0.9996 - val_accuracy: 0.6502\n",
            "Epoch 4/10\n",
            "704/704 [==============================] - 4s 6ms/step - loss: 0.9672 - accuracy: 0.6601 - val_loss: 1.0338 - val_accuracy: 0.6420\n",
            "Epoch 5/10\n",
            "704/704 [==============================] - 5s 7ms/step - loss: 0.8845 - accuracy: 0.6860 - val_loss: 0.9105 - val_accuracy: 0.6810\n",
            "Epoch 6/10\n",
            "704/704 [==============================] - 4s 6ms/step - loss: 0.8223 - accuracy: 0.7102 - val_loss: 0.8657 - val_accuracy: 0.7050\n",
            "Epoch 7/10\n",
            "704/704 [==============================] - 4s 6ms/step - loss: 0.7650 - accuracy: 0.7321 - val_loss: 0.8775 - val_accuracy: 0.6944\n",
            "Epoch 8/10\n",
            "704/704 [==============================] - 5s 7ms/step - loss: 0.7234 - accuracy: 0.7464 - val_loss: 0.8691 - val_accuracy: 0.7074\n",
            "Epoch 9/10\n",
            "704/704 [==============================] - 4s 6ms/step - loss: 0.6790 - accuracy: 0.7605 - val_loss: 0.8642 - val_accuracy: 0.7094\n",
            "Epoch 10/10\n",
            "704/704 [==============================] - 4s 6ms/step - loss: 0.6376 - accuracy: 0.7762 - val_loss: 0.8110 - val_accuracy: 0.7284\n"
          ]
        },
        {
          "output_type": "execute_result",
          "data": {
            "text/plain": [
              "<keras.callbacks.History at 0x7f5080490a30>"
            ]
          },
          "metadata": {},
          "execution_count": 9
        }
      ]
    },
    {
      "cell_type": "code",
      "source": [
        "# Avaliando o modelo com a base de teste\n",
        "\n",
        "test_loss, test_acc = model.evaluate(x_test, y_test, verbose=2)\n",
        "print('Test accuracy:', test_acc)\n"
      ],
      "metadata": {
        "colab": {
          "base_uri": "https://localhost:8080/"
        },
        "id": "B0czm9Z3ElLI",
        "outputId": "7af54931-3b38-4297-cbe2-eec232812b04"
      },
      "execution_count": 10,
      "outputs": [
        {
          "output_type": "stream",
          "name": "stdout",
          "text": [
            "313/313 - 1s - loss: 0.8380 - accuracy: 0.7137 - 899ms/epoch - 3ms/step\n",
            "Test accuracy: 0.713699996471405\n"
          ]
        }
      ]
    }
  ]
}